{
 "cells": [
  {
   "cell_type": "markdown",
   "metadata": {},
   "source": [
    "# What is Fuzzy Logic?\n",
    "\n",
    "Fuzzy logic is a way of thinking that helps us deal with things that are not black and white, but rather shades of gray. It’s like how we often describe things in everyday language.\n",
    "\n",
    "## Key Ideas:\n",
    "\n",
    "- **Fuzzy Sets:** Instead of saying something is either true or false, fuzzy logic allows for degrees of truth. For example, if we say \"tall,\" someone who is 6 feet might be considered \"tall\" (true), but someone who is 5 feet 8 inches might be \"somewhat tall\" (partially true).\n",
    "\n",
    "- **Membership Functions:** These are used to show how much something belongs to a fuzzy set. For example, a person’s height can be represented on a scale from \"not tall\" to \"very tall.\"\n",
    "\n",
    "- **Linguistic Variables:** These are words we use to describe things, like \"hot,\" \"cold,\" \"fast,\" or \"slow.\" Instead of numbers, we use these words to make decisions.\n",
    "\n",
    "- **Fuzzy Rules:** We create rules that help us make decisions. For example, \"IF it is hot THEN turn on the fan.\" This rule helps a system understand what to do based on fuzzy conditions.\n",
    "\n",
    "- **Defuzzification:** After using fuzzy rules to make a decision, we often need to convert that decision back into a clear action. For example, if the fan speed is determined to be \"medium,\" we might set it to a specific speed.\n",
    "\n",
    "## Where is it Used?\n",
    "\n",
    "- **Home Appliances:** Like washing machines that adjust cycles based on how dirty the clothes are.\n",
    "- **Air Conditioning:** To keep the room comfortable by adjusting the temperature based on how hot it feels.\n",
    "- **Cars:** For features like automatic braking or adjusting speed based on traffic conditions.\n",
    "\n",
    "## Summary\n",
    "\n",
    "Fuzzy logic helps us make decisions in situations where things are not clear-cut. It’s useful in everyday technology to make systems smarter and more adaptable."
   ]
  },
  {
   "cell_type": "markdown",
   "metadata": {},
   "source": []
  },
  {
   "cell_type": "markdown",
   "metadata": {},
   "source": [
    "# Practical Example of Fuzzy Logic: Room Temperature Control\n",
    "\n",
    "Let’s go through a practical example of fuzzy logic using a simple temperature control system for a room. This example will illustrate how fuzzy logic can be applied in a real-world scenario.\n",
    "\n",
    "## Scenario: Room Temperature Control\n",
    "\n",
    "Imagine you have a room with a heating system, and you want to maintain a comfortable temperature. Instead of just turning the heater on or off based on a specific temperature, we can use fuzzy logic to make the system smarter.\n",
    "\n",
    "### Step 1: Define the Fuzzy Sets\n",
    "\n",
    "First, we need to define some fuzzy sets for temperature. Let’s say we categorize temperature into three fuzzy sets:\n",
    "\n",
    "- **Cold:** 0°C to 18°C\n",
    "- **Comfortable:** 18°C to 24°C\n",
    "- **Hot:** 24°C to 30°C\n",
    "\n",
    "### Step 2: Create Membership Functions\n",
    "\n",
    "Next, we create membership functions for these fuzzy sets. Here’s a simple way to visualize them:\n",
    "\n",
    "- **Cold:**\n",
    "  - 0°C = 1 (fully cold)\n",
    "  - 10°C = 0.5 (partially cold)\n",
    "  - 18°C = 0 (not cold)\n",
    "\n",
    "- **Comfortable:**\n",
    "  - 18°C = 0 (not comfortable)\n",
    "  - 21°C = 1 (fully comfortable)\n",
    "  - 24°C = 0.5 (partially comfortable)\n",
    "\n",
    "- **Hot:**\n",
    "  - 24°C = 0 (not hot)\n",
    "  - 28°C = 1 (fully hot)\n",
    "  - 30°C = 0.5 (partially hot)\n",
    "\n",
    "### Step 3: Define Fuzzy Rules\n",
    "\n",
    "Now, we create some fuzzy rules based on our fuzzy sets. Here are a few examples:\n",
    "\n",
    "- **Rule 1:** IF temperature is Cold THEN increase heater power to High.\n",
    "- **Rule 2:** IF temperature is Comfortable THEN keep heater power at Medium.\n",
    "- **Rule 3:** IF temperature is Hot THEN decrease heater power to Low.\n",
    "\n",
    "### Step 4: Input Temperature\n",
    "\n",
    "Let’s say the current temperature in the room is 20°C. We need to determine how the system should respond.\n",
    "\n",
    "### Step 5: Fuzzification\n",
    "\n",
    "We evaluate the current temperature against our fuzzy sets:\n",
    "\n",
    "- **Cold:** 20°C = 0 (not cold)\n",
    "- **Comfortable:** 20°C = 0.67 (partially comfortable)\n",
    "- **Hot:** 20°C = 0 (not hot)\n",
    "\n",
    "### Step 6: Apply Fuzzy Rules\n",
    "\n",
    "Now we apply the fuzzy rules based on the fuzzified values:\n",
    "\n",
    "- **Rule 1:** Not applicable (0 for Cold).\n",
    "- **Rule 2:** 0.67 (partially comfortable) suggests keeping the heater at Medium.\n",
    "- **Rule 3:** Not applicable (0 for Hot).\n",
    "\n",
    "### Step 7: Aggregation\n",
    "\n",
    "Since we only have one active rule (Rule 2), we can directly use the output from this rule. The system suggests keeping the heater at Medium power.\n",
    "\n",
    "### Step 8: Defuzzification\n",
    "\n",
    "Finally, we convert the fuzzy output back into a crisp value. Since we decided on Medium power, we might set the heater to a specific power level, say 50%.\n",
    "\n",
    "## Summary\n",
    "\n",
    "In this example, fuzzy logic allowed us to make a more nuanced decision about how to control the heater based on the current temperature. Instead of just turning it on or off, the system can adjust the power level based on how \"comfortable\" the temperature feels, leading to a more efficient and comfortable environment.\n",
    "\n",
    "This approach can be applied to many other systems, such as air conditioning, washing machines, and even in robotics, where decisions need to be made based on imprecise inputs."
   ]
  },
  {
   "cell_type": "markdown",
   "metadata": {},
   "source": [
    "# Lets code that"
   ]
  },
  {
   "cell_type": "code",
   "execution_count": 1,
   "metadata": {},
   "outputs": [
    {
     "ename": "ModuleNotFoundError",
     "evalue": "No module named 'skfuzzy'",
     "output_type": "error",
     "traceback": [
      "\u001b[1;31m---------------------------------------------------------------------------\u001b[0m",
      "\u001b[1;31mModuleNotFoundError\u001b[0m                       Traceback (most recent call last)",
      "Cell \u001b[1;32mIn[1], line 2\u001b[0m\n\u001b[0;32m      1\u001b[0m \u001b[38;5;28;01mimport\u001b[39;00m \u001b[38;5;21;01mnumpy\u001b[39;00m \u001b[38;5;28;01mas\u001b[39;00m \u001b[38;5;21;01mnp\u001b[39;00m\n\u001b[1;32m----> 2\u001b[0m \u001b[38;5;28;01mimport\u001b[39;00m \u001b[38;5;21;01mskfuzzy\u001b[39;00m \u001b[38;5;28;01mas\u001b[39;00m \u001b[38;5;21;01mfuzz\u001b[39;00m\n\u001b[0;32m      3\u001b[0m \u001b[38;5;28;01mimport\u001b[39;00m \u001b[38;5;21;01mmatplotlib\u001b[39;00m\u001b[38;5;21;01m.\u001b[39;00m\u001b[38;5;21;01mpyplot\u001b[39;00m \u001b[38;5;28;01mas\u001b[39;00m \u001b[38;5;21;01mplt\u001b[39;00m\n",
      "\u001b[1;31mModuleNotFoundError\u001b[0m: No module named 'skfuzzy'"
     ]
    }
   ],
   "source": [
    "import numpy as np\n",
    "import skfuzzy as fuzz\n",
    "import matplotlib.pyplot as plt"
   ]
  },
  {
   "cell_type": "code",
   "execution_count": null,
   "metadata": {},
   "outputs": [],
   "source": [
    "# Step 1: Define the universe of discourse\n",
    "temperature = np.arange(0, 31, 1)  # Temperature from 0 to 30 degrees Celsius\n",
    "heater_power = np.arange(0, 101, 1)  # Heater power from 0% to 100%"
   ]
  },
  {
   "cell_type": "code",
   "execution_count": null,
   "metadata": {},
   "outputs": [],
   "source": [
    "# Step 2: Define fuzzy sets for temperature\n",
    "cold = fuzz.trapmf(temperature, [0, 0, 10, 18])  # Cold\n",
    "comfortable = fuzz.trimf(temperature, [18, 21, 24])  # Comfortable\n",
    "hot = fuzz.trapmf(temperature, [24, 30, 30, 30])  # Hot"
   ]
  },
  {
   "cell_type": "code",
   "execution_count": null,
   "metadata": {},
   "outputs": [],
   "source": [
    "# Step 3: Define fuzzy sets for heater power\n",
    "low_power = fuzz.trimf(heater_power, [0, 0, 50])  # Low power\n",
    "medium_power = fuzz.trimf(heater_power, [0, 50, 100])  # Medium power\n",
    "high_power = fuzz.trimf(heater_power, [50, 100, 100])  # High power"
   ]
  },
  {
   "cell_type": "code",
   "execution_count": null,
   "metadata": {},
   "outputs": [],
   "source": [
    "# Step 4: Visualize the fuzzy sets\n",
    "plt.figure(figsize=(10, 5))\n",
    "\n",
    "plt.subplot(1, 2, 1)\n",
    "plt.plot(temperature, cold, label='Cold')\n",
    "plt.plot(temperature, comfortable, label='Comfortable')\n",
    "plt.plot(temperature, hot, label='Hot')\n",
    "plt.title('Temperature Fuzzy Sets')\n",
    "plt.xlabel('Temperature (°C)')\n",
    "plt.ylabel('Membership Degree')\n",
    "plt.legend()\n",
    "\n",
    "plt.subplot(1, 2, 2)\n",
    "plt.plot(heater_power, low_power, label='Low Power')\n",
    "plt.plot(heater_power, medium_power, label='Medium Power')\n",
    "plt.plot(heater_power, high_power, label='High Power')\n",
    "plt.title('Heater Power Fuzzy Sets')\n",
    "plt.xlabel('Heater Power (%)')\n",
    "plt.ylabel('Membership Degree')\n",
    "plt.legend()\n",
    "\n",
    "plt.tight_layout()\n",
    "plt.show()"
   ]
  },
  {
   "cell_type": "code",
   "execution_count": null,
   "metadata": {},
   "outputs": [],
   "source": [
    "# Step 5: Input temperature\n",
    "current_temperature = 20  # Example input temperature"
   ]
  },
  {
   "cell_type": "code",
   "execution_count": null,
   "metadata": {},
   "outputs": [],
   "source": [
    "# Step 6: Fuzzification\n",
    "cold_level = fuzz.interp_membership(temperature, cold, current_temperature)\n",
    "comfortable_level = fuzz.interp_membership(temperature, comfortable, current_temperature)\n",
    "hot_level = fuzz.interp_membership(temperature, hot, current_temperature)"
   ]
  },
  {
   "cell_type": "code",
   "execution_count": null,
   "metadata": {},
   "outputs": [],
   "source": [
    "# Step 7: Apply fuzzy rules\n",
    "# Rule 1: IF temperature is Cold THEN heater power is High\n",
    "high_power_activation = cold_level"
   ]
  },
  {
   "cell_type": "code",
   "execution_count": null,
   "metadata": {},
   "outputs": [],
   "source": [
    "# Rule 2: IF temperature is Comfortable THEN heater power is Medium\n",
    "medium_power_activation = comfortable_level"
   ]
  },
  {
   "cell_type": "code",
   "execution_count": null,
   "metadata": {},
   "outputs": [],
   "source": [
    "# Rule 3: IF temperature is Hot THEN heater power is Low\n",
    "low_power_activation = hot_level"
   ]
  },
  {
   "cell_type": "code",
   "execution_count": null,
   "metadata": {},
   "outputs": [],
   "source": [
    "# Step 8: Aggregate the outputs\n",
    "aggregated_power = np.fmax(high_power_activation, np.fmax(medium_power_activation, low_power_activation))\n"
   ]
  },
  {
   "cell_type": "code",
   "execution_count": null,
   "metadata": {},
   "outputs": [],
   "source": [
    "# Step 9: Defuzzification\n",
    "defuzzified_power = fuzz.defuzz(heater_power, aggregated_power, 'centroid')"
   ]
  },
  {
   "cell_type": "code",
   "execution_count": null,
   "metadata": {},
   "outputs": [],
   "source": [
    "print(f\"Current Temperature: {current_temperature}°C\")\n",
    "print(f\"Recommended Heater Power: {defuzzified_power:.2f}%\")"
   ]
  },
  {
   "cell_type": "markdown",
   "metadata": {},
   "source": []
  }
 ],
 "metadata": {
  "kernelspec": {
   "display_name": "base",
   "language": "python",
   "name": "python3"
  },
  "language_info": {
   "codemirror_mode": {
    "name": "ipython",
    "version": 3
   },
   "file_extension": ".py",
   "mimetype": "text/x-python",
   "name": "python",
   "nbconvert_exporter": "python",
   "pygments_lexer": "ipython3",
   "version": "3.11.7"
  }
 },
 "nbformat": 4,
 "nbformat_minor": 2
}
